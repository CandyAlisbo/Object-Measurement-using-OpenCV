{
  "nbformat": 4,
  "nbformat_minor": 0,
  "metadata": {
    "colab": {
      "name": "Director,Actor,Genre.ipynb",
      "provenance": [],
      "authorship_tag": "ABX9TyP6zaPlZ/8kG9gM/3xmGKAn",
      "include_colab_link": true
    },
    "kernelspec": {
      "name": "python3",
      "display_name": "Python 3"
    },
    "language_info": {
      "name": "python"
    }
  },
  "cells": [
    {
      "cell_type": "markdown",
      "metadata": {
        "id": "view-in-github",
        "colab_type": "text"
      },
      "source": [
        "<a href=\"https://colab.research.google.com/github/CandyAlisbo/Object-Measurement-using-OpenCV/blob/main/Director%2CActor%2CGenre.ipynb\" target=\"_parent\"><img src=\"https://colab.research.google.com/assets/colab-badge.svg\" alt=\"Open In Colab\"/></a>"
      ]
    },
    {
      "cell_type": "code",
      "execution_count": 40,
      "metadata": {
        "colab": {
          "base_uri": "https://localhost:8080/"
        },
        "id": "nOB3zKktj3KN",
        "outputId": "2bf3df0a-de4c-40d1-fcf3-018de7172260"
      },
      "outputs": [
        {
          "output_type": "execute_result",
          "data": {
            "text/plain": [
              "290       The Godfather Part II\n",
              "373      The Godfather Part III\n",
              "234       To Kill a Mockingbird\n",
              "292            The Conversation\n",
              "317              Apocalypse Now\n",
              "436         Lost in Translation\n",
              "568       Promising Young Woman\n",
              "190           On the Waterfront\n",
              "179    A Streetcar Named Desire\n",
              "208                    Sayonara\n",
              "580             West Side Story\n",
              "557                The Irishman\n",
              "297           Dog Day Afternoon\n",
              "22              Five Star Final\n",
              "206                12 Angry Men\n",
              "Name: Film, dtype: object"
            ]
          },
          "metadata": {},
          "execution_count": 40
        }
      ],
      "source": [
        "import pandas as pd\n",
        "import numpy as np\n",
        "import matplotlib.pyplot as plt\n",
        "movies = pd.read_csv('oscars_df.csv',encoding='latin-1')\n",
        "\n",
        "features = ['Actors', 'Directors', 'Genre']\n",
        "\n",
        "def clean_data(x):\n",
        "  if isinstance(x, list):\n",
        "    return [str.lower(i.replace(\" \", \"\"),(\",\", \"\")) for i in x]\n",
        "  else:\n",
        "    if isinstance(x, str):\n",
        "      return str.lower(x.replace(\" \", \"\"))\n",
        "    else:\n",
        "      return ''\n",
        "\n",
        "for feature in features:\n",
        "  movies[feature] = movies[feature].apply(clean_data)\n",
        "\n",
        "def create_soup(x):\n",
        "    return ''.join(x['Directors']) + ' ' + ''.join(x['Actors']) + ' '  + ''.join(x['Genre'])\n",
        "\n",
        "movies['Actors'] = movies['Actors'].str.replace(',',' ')\n",
        "movies['Directors'] = movies['Directors'].str.replace(',',' ')\n",
        "movies['Genre'] = movies['Genre'].str.replace(',',' ')\n",
        "\n",
        "movies['soup'] = movies.apply(create_soup, axis=1)\n",
        "\n",
        "#movies[['soup']].head(2)\n",
        "\n",
        "from sklearn.feature_extraction.text import CountVectorizer\n",
        "\n",
        "count = CountVectorizer(stop_words='english')\n",
        "count_matrix = count.fit_transform(movies['soup'])\n",
        "\n",
        "#count_matrix.shape\n",
        "\n",
        "from sklearn.metrics.pairwise import cosine_similarity\n",
        "\n",
        "cosine_sim2 = cosine_similarity(count_matrix, count_matrix)\n",
        "\n",
        "movies = movies.reset_index()\n",
        "indices = pd.Series(movies.index, index=movies['Film'])\n",
        "\n",
        "#indices[:10]\n",
        "\n",
        "def get_recommendations(title, cosine_sim=cosine_sim2):\n",
        "    # Get the index of the movie that matches the title\n",
        "    idx = indices[title]\n",
        "\n",
        "    # Get the pairwsie similarity scores of all movies with that movie\n",
        "    sim_scores = list(enumerate(cosine_sim[idx]))\n",
        "\n",
        "    # Sort the movies based on the similarity scores\n",
        "    sim_scores = sorted(sim_scores, key=lambda x: x[1], reverse=True)\n",
        "\n",
        "    # Get the scores of the 10 most similar movies\n",
        "    sim_scores = sim_scores[1:16]\n",
        "\n",
        "    # Get the movie indices\n",
        "    movie_indices = [i[0] for i in sim_scores]\n",
        "\n",
        "    # Return the top 10 most similar movies\n",
        "    return movies['Film'].iloc[movie_indices]\n",
        "\n",
        "get_recommendations('The Godfather')"
      ]
    }
  ]
}